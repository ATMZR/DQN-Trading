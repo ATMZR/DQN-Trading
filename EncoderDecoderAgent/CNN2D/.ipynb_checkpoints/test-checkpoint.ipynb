{
 "cells": [
  {
   "cell_type": "code",
   "execution_count": 1,
   "metadata": {},
   "outputs": [],
   "source": [
    "import os\n",
    "os.chdir(r'C:\\Users\\Mehran\\Desktop\\Desktop files\\Bachelors Project\\Project')\n",
    "\n",
    "from DataLoader.DataLoader import YahooFinanceDataLoader\n",
    "from DataLoader.DataLoader import BitmexDataLoader\n",
    "from DataLoader.DataLSTMSequential import DataLSTMSequential\n",
    "import torch\n",
    "device = torch.device('cuda')"
   ]
  },
  {
   "cell_type": "code",
   "execution_count": 2,
   "metadata": {},
   "outputs": [],
   "source": [
    "DATASET_NAME = 'GOOGL'\n",
    "DATASET_FOLDER = 'GOOGL'\n",
    "GOOGL_FILE = 'GOOGL.csv'\n",
    "data_loader = YahooFinanceDataLoader(DATASET_FOLDER, GOOGL_FILE, True)"
   ]
  },
  {
   "cell_type": "code",
   "execution_count": 3,
   "metadata": {},
   "outputs": [],
   "source": [
    "data = DataLSTMSequential(data_loader.data_train,\n",
    "               'action_DRL_attention_agent', device, 0.8,\n",
    "                5, 30, 20)\n",
    "\n",
    "data_test = DataLSTMSequential(data_loader.data_test,\n",
    "               'action_DRL_attention_agent', device, 0.8,\n",
    "                5, 30, 20)"
   ]
  },
  {
   "cell_type": "code",
   "execution_count": 4,
   "metadata": {},
   "outputs": [
    {
     "data": {
      "text/plain": [
       "torch.Size([20, 1, 5])"
      ]
     },
     "execution_count": 4,
     "metadata": {},
     "output_type": "execute_result"
    }
   ],
   "source": [
    "data.states[0].shape"
   ]
  },
  {
   "cell_type": "code",
   "execution_count": 5,
   "metadata": {},
   "outputs": [],
   "source": [
    "from Encoder import Encoder\n",
    "from Decoder import Decoder"
   ]
  },
  {
   "cell_type": "code",
   "execution_count": 8,
   "metadata": {},
   "outputs": [],
   "source": [
    "e = Encoder(5).to(device)"
   ]
  },
  {
   "cell_type": "code",
   "execution_count": 10,
   "metadata": {},
   "outputs": [
    {
     "data": {
      "text/plain": [
       "torch.Size([1, 1, 20])"
      ]
     },
     "execution_count": 10,
     "metadata": {},
     "output_type": "execute_result"
    }
   ],
   "source": [
    "e(data.states[0].squeeze().unsqueeze(0)).shape"
   ]
  },
  {
   "cell_type": "code",
   "execution_count": 14,
   "metadata": {},
   "outputs": [
    {
     "data": {
      "text/plain": [
       "tensor([[1177.7200, 1187.9301, 1174.5100, 1177.3700,    0.0000],\n",
       "        [1183.8101, 1186.3199, 1172.1000, 1182.2200,    0.0000],\n",
       "        [1175.9900, 1187.4500, 1169.3600, 1181.5900,    0.0000],\n",
       "        [1127.4200, 1131.3000, 1111.1700, 1119.2000,    0.0000],\n",
       "        [1100.6100, 1114.9900, 1056.7400, 1062.3900,    0.0000],\n",
       "        [1033.9800, 1087.3800, 1030.0100, 1084.4301,    0.0000],\n",
       "        [1084.9700, 1086.5300, 1054.6200, 1055.4100,    0.0000],\n",
       "        [1059.8700, 1063.9301, 1004.7000, 1007.7100,    0.0000],\n",
       "        [1025.8800, 1051.7200,  997.0000, 1046.2700,    0.0000],\n",
       "        [1056.6700, 1065.5699, 1045.4900, 1054.5601,    0.0000],\n",
       "        [1050.0000, 1061.2200, 1046.9200, 1054.1400,    0.0000],\n",
       "        [1054.3199, 1075.4700, 1049.8000, 1072.7000,    0.0000],\n",
       "        [1083.4500, 1094.1000, 1067.2300, 1091.3600,    0.0000],\n",
       "        [1093.3800, 1108.3101, 1091.5500, 1095.5000,    0.0000],\n",
       "        [1092.7600, 1116.2900, 1090.0000, 1103.5900,    0.0000],\n",
       "        [1109.1000, 1136.2000, 1107.5100, 1113.7500,    0.0000],\n",
       "        [1119.1700, 1125.4600, 1105.1500, 1109.9000,    0.0000],\n",
       "        [1118.6600, 1129.0000, 1108.4399, 1128.0900,    0.0000],\n",
       "        [1131.8600, 1144.2000, 1129.3400, 1143.7000,    0.0000],\n",
       "        [1143.7000, 1144.2500, 1116.7900, 1117.5100,    0.0000]],\n",
       "       device='cuda:0')"
      ]
     },
     "execution_count": 14,
     "metadata": {},
     "output_type": "execute_result"
    }
   ],
   "source": [
    "torch.cat(data.states[0:30], dim=1)[:, 0, :]"
   ]
  },
  {
   "cell_type": "code",
   "execution_count": null,
   "metadata": {},
   "outputs": [],
   "source": [
    "torch.cat(data.states[0:30], dim=1).permute(1, 2, 0)"
   ]
  }
 ],
 "metadata": {
  "kernelspec": {
   "display_name": "Python 3",
   "language": "python",
   "name": "python3"
  },
  "language_info": {
   "codemirror_mode": {
    "name": "ipython",
    "version": 3
   },
   "file_extension": ".py",
   "mimetype": "text/x-python",
   "name": "python",
   "nbconvert_exporter": "python",
   "pygments_lexer": "ipython3",
   "version": "3.7.3"
  }
 },
 "nbformat": 4,
 "nbformat_minor": 2
}
