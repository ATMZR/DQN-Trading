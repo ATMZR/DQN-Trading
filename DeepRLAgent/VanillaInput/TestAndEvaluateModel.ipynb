{
 "cells": [
  {
   "cell_type": "code",
   "execution_count": 1,
   "metadata": {},
   "outputs": [
    {
     "name": "stdout",
     "output_type": "stream",
     "text": [
      "C:\\Users\\Mehran\\Desktop\\Desktop files\\Bachelors Project\\Project\\DeepRLAgent\n",
      "C:\\Users\\Mehran\\Desktop\\Desktop files\\Bachelors Project\\Project\n"
     ]
    }
   ],
   "source": [
    "import os\n",
    "print(os.getcwd())\n",
    "# os.chdir('../../')\n",
    "os.chdir('../')\n",
    "\n",
    "print(os.getcwd())"
   ]
  },
  {
   "cell_type": "code",
   "execution_count": 4,
   "metadata": {},
   "outputs": [],
   "source": [
    "import random\n",
    "import torch\n",
    "import torch.optim as optim\n",
    "import torch.nn.functional as F\n",
    "import matplotlib.pyplot as plt\n",
    "import numpy as np\n",
    "\n",
    "import math\n",
    "\n",
    "from DeepQNetwork import DQN\n",
    "from ReplayMemory import ReplayMemory, Transition\n",
    "from DataLoader import BitmexDataLoader, YahooFinanceDataLoader\n",
    "from Data import Data\n",
    "from itertools import count\n",
    "from tqdm import tqdm\n",
    "\n",
    "from PatternDetectionInCandleStick.Evaluation import Evaluation\n",
    "\n",
    "device = torch.device(\"cuda\" if torch.cuda.is_available() else \"cpu\")\n",
    "\n",
    "BATCH_SIZE = 30\n",
    "GAMMA = 0.999\n",
    "EPS_START = 0.9\n",
    "EPS_END = 0.05\n",
    "EPS_DECAY = 200\n",
    "TARGET_UPDATE = 5\n",
    "n_actions = 3\n",
    "n_step = 4\n"
   ]
  },
  {
   "cell_type": "code",
   "execution_count": 23,
   "metadata": {},
   "outputs": [],
   "source": [
    "BITMEX_PATH = r'C:\\Users\\Mehran\\Desktop\\Desktop files\\Bachelors Project\\Project\\Data\\Bitmex\\\\'\n",
    "BITMEX_FILE = 'XBTUSD-5m-data.csv'\n",
    "data_loader = BitmexDataLoader(True)\n",
    "data = Data(data_loader.data, data_loader.patterns, device, GAMMA, n_step)"
   ]
  },
  {
   "cell_type": "code",
   "execution_count": 20,
   "metadata": {},
   "outputs": [],
   "source": [
    "GOOGL_PATH = r'C:\\Users\\Mehran\\Desktop\\Desktop files\\Bachelors Project\\Project\\Data\\GOOGL\\\\'\n",
    "GOOGL_FILE = 'GOOGL.csv'\n",
    "data_loader = YahooFinanceDataLoader(GOOGL_PATH, GOOGL_FILE, True)\n",
    "data = Data(data_loader.data, data_loader.patterns, device, GAMMA, n_step)"
   ]
  },
  {
   "cell_type": "code",
   "execution_count": 26,
   "metadata": {},
   "outputs": [],
   "source": [
    "BTC_USD_PATH = r'C:\\Users\\Mehran\\Desktop\\Desktop files\\Bachelors Project\\Project\\Data\\BTC-USD\\\\'\n",
    "BTC_USD_FILE = r'BTC-USD.csv'\n",
    "data_loader = YahooFinanceDataLoader(BTC_USD_PATH, BTC_USD_FILE, True)\n",
    "data = Data(data_loader.data, data_loader.patterns, device, GAMMA, n_step)"
   ]
  },
  {
   "cell_type": "code",
   "execution_count": 27,
   "metadata": {},
   "outputs": [
    {
     "name": "stdout",
     "output_type": "stream",
     "text": [
      "yeah buddy exception\n",
      "RuleBased:\n",
      "Historical VAR is -4.0\n",
      "Variance-Covariance VAR with 95% confidence is -4.135529342653922\n",
      "Variance-Covariance VAR with 99% confidence is -5.839868708111297\n",
      "##################################################\n",
      "Arithmetic Return: -20.314230955271434\n",
      "##################################################\n",
      "Logarithmic Return: 43.144009113119445\n",
      "##################################################\n",
      "Average daily return: -0.027789645629646285\n",
      "##################################################\n",
      "Daily return variance (return type: Arithmetic): 6.281947821469819\n",
      "##################################################\n",
      "Daily return variance (return type: Logarithmic): 6.245559761681891\n",
      "##################################################\n",
      "Time weighted return: 0.24149011524095232\n",
      "##################################################\n",
      "Total Return: 0.6495729765547616\n",
      "##################################################\n",
      "Sharp Ratio: -0.011087556510840969\n",
      "##################################################\n",
      "Value at Risk (Monte Carlo method): -4.155178403276491\n",
      "##################################################\n",
      "Volatility: 67.76506369431404\n",
      "##################################################\n",
      "Initial Investment: 1000\n",
      "##################################################\n",
      "Final Portfolio Value: 649.5729765547611\n",
      "##################################################\n",
      "-20.314 & 43.144 & -0.028 & 6.282 & 0.241 & 0.650 & -0.011 & -4.155 & 67.765 & 1000.000 & 649.573 \\\\\n",
      "********************************************************************************\n",
      "Agent:\n",
      "Historical VAR is -5.0\n",
      "Variance-Covariance VAR with 95% confidence is -4.550046057400071\n",
      "Variance-Covariance VAR with 99% confidence is -6.425216553783132\n",
      "##################################################\n",
      "Arithmetic Return: 59.71997307913747\n",
      "##################################################\n",
      "Logarithmic Return: -32.017719225181075\n",
      "##################################################\n",
      "Average daily return: 0.08169626960210324\n",
      "##################################################\n",
      "Daily return variance (return type: Arithmetic): 7.604378007148553\n",
      "##################################################\n",
      "Daily return variance (return type: Logarithmic): 7.586291918226992\n",
      "##################################################\n",
      "Time weighted return: 0.30148393811307916\n",
      "##################################################\n",
      "Total Return: 1.377371802325734\n",
      "##################################################\n",
      "Sharp Ratio: 0.029625819858292896\n",
      "##################################################\n",
      "Value at Risk (Monte Carlo method): -4.459393247135965\n",
      "##################################################\n",
      "Volatility: 74.55736263593015\n",
      "##################################################\n",
      "Initial Investment: 1000\n",
      "##################################################\n",
      "Final Portfolio Value: 1377.3718023257359\n",
      "##################################################\n",
      "59.720 & -32.018 & 0.082 & 7.604 & 0.301 & 1.377 & 0.030 & -4.459 & 74.557 & 1000.000 & 1377.372 \\\\\n"
     ]
    }
   ],
   "source": [
    "# file_name = 'Google1'\n",
    "file_name = 'Bitcoin1'\n",
    "# file_name = 'Bitmex'\n",
    "\n",
    "test_net = DQN(data.state_size, n_actions)\n",
    "test_net.load_state_dict(torch.load(f'Objects/{file_name}.pkl'))\n",
    "test_net.to(device)\n",
    "action_list = []\n",
    "data_iter = data.__iter__()\n",
    "for batch in data_iter:\n",
    "    action_batch = test_net(batch).max(1)[1]\n",
    "    action_list += list(action_batch.cpu().numpy())\n",
    "\n",
    "data.make_investment(action_list)\n",
    "ev_RuleBased = Evaluation(data.data, 'action', 1000)\n",
    "ev_agent = Evaluation(data.data, 'action_agent', 1000)\n",
    "\n",
    "print(\"RuleBased:\")\n",
    "ev_RuleBased.evaluate()\n",
    "print('*' * 80)\n",
    "print(\"Agent:\")\n",
    "ev_agent.evaluate()\n",
    "\n",
    "agent_portfolio = ev_agent.get_daily_portfolio_value()\n",
    "RuleBased_portfolio = ev_RuleBased.get_daily_portfolio_value()"
   ]
  },
  {
   "cell_type": "code",
   "execution_count": 28,
   "metadata": {},
   "outputs": [
    {
     "data": {
      "image/png": "[encoded data removed]",
      "text/plain": [
       "<Figure size 432x288 with 1 Axes>"
      ]
     },
     "metadata": {
      "needs_background": "light"
     },
     "output_type": "display_data"
    }
   ],
   "source": [
    "plt.plot(np.arange(len(RuleBased_portfolio)), RuleBased_portfolio, label='RuleBased')\n",
    "plt.plot(np.arange(len(agent_portfolio)), agent_portfolio, label='Agent')\n",
    "plt.legend()\n",
    "plt.savefig(\"gamma0.7&eps0.1&n3.jpg\")\n",
    "plt.savefig('Bitcoin.jpg')"
   ]
  },
  {
   "cell_type": "code",
   "execution_count": null,
   "metadata": {},
   "outputs": [],
   "source": []
  }
 ],
 "metadata": {
  "kernelspec": {
   "display_name": "Python 3",
   "language": "python",
   "name": "python3"
  },
  "language_info": {
   "codemirror_mode": {
    "name": "ipython",
    "version": 3
   },
   "file_extension": ".py",
   "mimetype": "text/x-python",
   "name": "python",
   "nbconvert_exporter": "python",
   "pygments_lexer": "ipython3",
   "version": "3.7.3"
  }
 },
 "nbformat": 4,
 "nbformat_minor": 1
}
