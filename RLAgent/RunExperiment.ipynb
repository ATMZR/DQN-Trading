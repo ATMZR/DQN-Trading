{
 "cells": [
  {
   "cell_type": "code",
   "execution_count": 1,
   "metadata": {},
   "outputs": [
    {
     "name": "stdout",
     "output_type": "stream",
     "text": [
      "C:\\Users\\Mehran\\Desktop\\Desktop files\\Bachelors Project\\Project\\RLAgent\n",
      "C:\\Users\\Mehran\\Desktop\\Desktop files\\Bachelors Project\n"
     ]
    }
   ],
   "source": [
    "import os\n",
    "print(os.getcwd())\n",
    "os.chdir('../../')\n",
    "print(os.getcwd())"
   ]
  },
  {
   "cell_type": "code",
   "execution_count": 2,
   "metadata": {},
   "outputs": [],
   "source": [
    "import warnings\n",
    "import pandas as pd\n",
    "import matplotlib.pyplot as plt\n",
    "import numpy as np\n",
    "from Project.RLAgent.Train import Train, load_data\n",
    "\n",
    "from Project.DeepRLAgent.DataLoader import YahooFinanceDataLoader\n",
    "from Project.DeepRLAgent.Data import Data\n",
    "\n",
    "from Project.PatternDetectionInCandleStick.LabelPatterns import label_candles\n",
    "from Project.PatternDetectionInCandleStick.Evaluation import Evaluation\n",
    "\n",
    "PATH = r'C:\\Users\\Mehran\\Desktop\\Desktop files\\Bachelors Project\\Project\\TestResults\\Second\\Figures\\\\'"
   ]
  },
  {
   "cell_type": "code",
   "execution_count": 3,
   "metadata": {},
   "outputs": [],
   "source": [
    "num_iteration = 10000\n",
    "gamma = 0.7\n",
    "alpha = 0.3\n",
    "epsilon = 0.1\n",
    "n = 10"
   ]
  },
  {
   "cell_type": "code",
   "execution_count": 11,
   "metadata": {},
   "outputs": [],
   "source": [
    "# BtC-USD\n",
    "BTC_USD_PATH = r'C:\\Users\\Mehran\\Desktop\\Desktop files\\Bachelors Project\\Project\\Data\\BTC-USD\\\\'\n",
    "BTC_USD_FILE = r'BTC-USD.csv'\n",
    "data_loader = YahooFinanceDataLoader(BTC_USD_PATH, BTC_USD_FILE, True)\n",
    "data_train = Data(data_loader.data, data_loader.patterns, None, gamma, n)"
   ]
  },
  {
   "cell_type": "code",
   "execution_count": 15,
   "metadata": {},
   "outputs": [],
   "source": [
    "GOOGL_PATH = r'C:\\Users\\Mehran\\Desktop\\Desktop files\\Bachelors Project\\Project\\Data\\GOOGL\\\\'\n",
    "GOOGL_FILE = 'GOOGL.csv'\n",
    "data_loader = YahooFinanceDataLoader(GOOGL_PATH, GOOGL_FILE, True)\n",
    "data_train = Data(data_loader.data, data_loader.patterns, None, gamma, n)\n",
    "\n",
    "# data_train = Data(data_loader.data_train, data_loader.patterns, None, gamma, n)\n",
    "# data_test = Data(data_loader.data_test, data_loader.patterns, None, gamma, n)"
   ]
  },
  {
   "cell_type": "code",
   "execution_count": null,
   "metadata": {},
   "outputs": [],
   "source": [
    "# path = 'Data/XBTUSD-5m-data.csv'\n",
    "# data, patterns = load_data(path)"
   ]
  },
  {
   "cell_type": "code",
   "execution_count": 16,
   "metadata": {},
   "outputs": [],
   "source": [
    "deal = Train(data_train.data, data_loader.patterns, n=n, window_size=20, num_iteration=num_iteration, gamma=gamma, alpha=alpha, epsilon=epsilon)"
   ]
  },
  {
   "cell_type": "code",
   "execution_count": 17,
   "metadata": {},
   "outputs": [
    {
     "name": "stderr",
     "output_type": "stream",
     "text": [
      "100%|██████████████████████████████████████████████████████████████████████████| 10000/10000 [00:06<00:00, 1631.96it/s]\n"
     ]
    }
   ],
   "source": [
    "deal.training()\n",
    "deal.write_to_file()"
   ]
  },
  {
   "cell_type": "code",
   "execution_count": 18,
   "metadata": {},
   "outputs": [
    {
     "name": "stdout",
     "output_type": "stream",
     "text": [
      "RuleBased:\n",
      "Historical VAR is -1.8999999999999986\n",
      "Variance-Covariance VAR with 95% confidence is -1.3493637152204445\n",
      "Variance-Covariance VAR with 99% confidence is -1.9054651251294763\n",
      "##################################################\n",
      "Arithmetic Return: 9.998370152478456\n",
      "##################################################\n",
      "Logarithmic Return: -8.298019941422252\n",
      "##################################################\n",
      "Average daily return: 0.019877475452243453\n",
      "##################################################\n",
      "Daily return variance (return type: Arithmetic): 0.6687906100839378\n",
      "##################################################\n",
      "Daily return variance (return type: Logarithmic): 0.6815033594526235\n",
      "##################################################\n",
      "Time weighted return: 0.004086497490524144\n",
      "##################################################\n",
      "Total Return: 1.0865202945969534\n",
      "##################################################\n",
      "Sharp Ratio: 0.024306148243243328\n",
      "##################################################\n",
      "Value at Risk (Monte Carlo method): -1.326830084021481\n",
      "##################################################\n",
      "Volatility: 18.341256142157242\n",
      "##################################################\n",
      "Initial Investment: 1000\n",
      "##################################################\n",
      "Final Portfolio Value: 1086.5202945969538\n",
      "##################################################\n",
      "9.998 & -8.298 & 0.020 & 0.669 & 0.004 & 1.087 & 0.024 & -1.327 & 18.341 & 1000.000 & 1086.520 \\\\\n",
      "********************************************************************************\n",
      "Agent:\n",
      "Historical VAR is -2.0\n",
      "Variance-Covariance VAR with 95% confidence is -2.0514851439282835\n",
      "Variance-Covariance VAR with 99% confidence is -2.8969456880926674\n",
      "##################################################\n",
      "Arithmetic Return: 49.41860386494331\n",
      "##################################################\n",
      "Logarithmic Return: -45.521435038437964\n",
      "##################################################\n",
      "Average daily return: 0.09824772140147775\n",
      "##################################################\n",
      "Daily return variance (return type: Arithmetic): 1.545855388708338\n",
      "##################################################\n",
      "Daily return variance (return type: Logarithmic): 1.543610200289613\n",
      "##################################################\n",
      "Time weighted return: nan\n",
      "##################################################\n",
      "Total Return: 1.576511272616582\n",
      "##################################################\n",
      "Sharp Ratio: 0.0790201872980784\n",
      "##################################################\n",
      "Value at Risk (Monte Carlo method): -1.9491991754679203\n",
      "##################################################\n",
      "Volatility: 27.88485719024385\n",
      "##################################################\n",
      "Initial Investment: 1000\n",
      "##################################################\n",
      "Final Portfolio Value: 1576.5112726165812\n",
      "##################################################\n",
      "49.419 & -45.521 & 0.098 & 1.546 & nan & 1.577 & 0.079 & -1.949 & 27.885 & 1000.000 & 1576.511 \\\\\n"
     ]
    }
   ],
   "source": [
    "# deal.read_from_file(f\"{num_iteration}-{n}-{gamma}-{alpha}-{epsilon}(2).pkl\")\n",
    "deal.make_investment()\n",
    "ev_RuleBased = Evaluation(deal.data, 'action', 1000)\n",
    "ev_agent = Evaluation(deal.data, 'action_agent', 1000)\n",
    "\n",
    "print(\"RuleBased:\")\n",
    "ev_RuleBased.evaluate()\n",
    "print('*' * 80)\n",
    "print(\"Agent:\")\n",
    "ev_agent.evaluate()\n",
    "\n",
    "agent_portfolio = ev_agent.get_daily_portfolio_value()\n",
    "RuleBased_portfolio = ev_RuleBased.get_daily_portfolio_value()"
   ]
  },
  {
   "cell_type": "code",
   "execution_count": null,
   "metadata": {},
   "outputs": [],
   "source": [
    "# print(human_portfolio[-1])\n",
    "# print(robot_portfolio[-1])\n",
    "# print(ev_human.calculate_match_actions('action', 'action_robot'))"
   ]
  },
  {
   "cell_type": "code",
   "execution_count": 8,
   "metadata": {},
   "outputs": [
    {
     "data": {
      "image/png": "[encoded data removed]",
      "text/plain": [
       "<Figure size 432x288 with 1 Axes>"
      ]
     },
     "metadata": {
      "needs_background": "light"
     },
     "output_type": "display_data"
    }
   ],
   "source": [
    "\n",
    "experiment_num = 1\n",
    "import os\n",
    "while os.path.exists(\n",
    "        f'{PATH}{num_iteration}-{n}-{gamma}-{alpha}-{epsilon}({experiment_num}).jpg'):\n",
    "    experiment_num += 1\n",
    "\n",
    "plt.plot(np.arange(len(RuleBased_portfolio)), RuleBased_portfolio, label='RuleBased')\n",
    "plt.plot(np.arange(len(agent_portfolio)), agent_portfolio, label='Agent')\n",
    "plt.legend()\n",
    "plt.savefig(f'{PATH}{num_iteration}-{n}-{gamma}-{alpha}-{epsilon}({experiment_num}).jpg')"
   ]
  },
  {
   "cell_type": "code",
   "execution_count": null,
   "metadata": {},
   "outputs": [],
   "source": [
    "deal.agent.get_Qvalue_log()"
   ]
  },
  {
   "cell_type": "code",
   "execution_count": null,
   "metadata": {},
   "outputs": [],
   "source": [
    "data_draw = data[1050:1200]"
   ]
  },
  {
   "cell_type": "code",
   "execution_count": null,
   "metadata": {},
   "outputs": [],
   "source": [
    "import plotly.graph_objects as go\n",
    "\n",
    "import pandas as pd\n",
    "from datetime import datetime\n",
    "\n",
    "for i in data_draw.index:\n",
    "    data_draw['label'][i] = str(data_draw['label'][i])\n",
    "\n",
    "\n",
    "fig = go.Figure(data=[go.Candlestick(x=data_draw.index,\n",
    "                open=data_draw['open'],\n",
    "                high=data_draw['high'],\n",
    "                low=data_draw['low'],\n",
    "                close=data_draw['close'], text=data_draw[['label', 'action', 'action_agent']].agg('-'.join, axis=1), name=\"Candle Stick\")])\n",
    "#                 go.Scatter(x=data.index, y=data.MA3, line=dict(color='orange', width=2), name=\"Moving Average\")])\n",
    "fig.show()\n",
    "\n",
    "# fig = go.Figure(data=[go.Candlestick(x=data_draw.index,\n",
    "#                 open=data_draw['open'],\n",
    "#                 high=data_draw['high'],\n",
    "#                 low=data_draw['low'],\n",
    "#                 close=data_draw['close'], text=data_draw[['label', 'action']].agg('-'.join, axis=1), name=\"Candle Stick\"), #])\n",
    "#                 go.Scatter(x=data_draw.index, y=data_draw.MA5, line=dict(color='blue', width=2), name=\"Moving Average\")])\n",
    "\n",
    "# fig.show()"
   ]
  },
  {
   "cell_type": "code",
   "execution_count": null,
   "metadata": {},
   "outputs": [],
   "source": [
    "import os"
   ]
  },
  {
   "cell_type": "code",
   "execution_count": null,
   "metadata": {},
   "outputs": [],
   "source": [
    "os.path.exists(f'{PATH}{num_iteration}-{n}-{gamma}-{alpha}-{epsilon}({experiment_num}).jpg')"
   ]
  },
  {
   "cell_type": "code",
   "execution_count": null,
   "metadata": {},
   "outputs": [],
   "source": []
  }
 ],
 "metadata": {
  "kernelspec": {
   "display_name": "Python 3",
   "language": "python",
   "name": "python3"
  },
  "language_info": {
   "codemirror_mode": {
    "name": "ipython",
    "version": 3
   },
   "file_extension": ".py",
   "mimetype": "text/x-python",
   "name": "python",
   "nbconvert_exporter": "python",
   "pygments_lexer": "ipython3",
   "version": "3.7.3"
  }
 },
 "nbformat": 4,
 "nbformat_minor": 2
}
