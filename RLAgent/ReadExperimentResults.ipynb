{
 "cells": [
  {
   "cell_type": "code",
   "execution_count": 1,
   "metadata": {},
   "outputs": [
    {
     "name": "stdout",
     "output_type": "stream",
     "text": [
      "C:\\Users\\Mehran\\Desktop\\Desktop files\\Bachelors Project\\Project\\RLAgent\n",
      "C:\\Users\\Mehran\\Desktop\\Desktop files\\Bachelors Project\n"
     ]
    }
   ],
   "source": [
    "import os\n",
    "print(os.getcwd())\n",
    "os.chdir('../../')\n",
    "print(os.getcwd())"
   ]
  },
  {
   "cell_type": "code",
   "execution_count": 2,
   "metadata": {},
   "outputs": [],
   "source": [
    "import warnings\n",
    "import pandas as pd\n",
    "import matplotlib.pyplot as plt\n",
    "import numpy as np\n",
    "from Project.RLAgent.Train import Train, load_data\n",
    "\n",
    "from Project.PatternDetectionInCandleStick.LabelPatterns import label_candles\n",
    "from Project.PatternDetectionInCandleStick.Evaluation import Evaluation\n"
   ]
  },
  {
   "cell_type": "code",
   "execution_count": 3,
   "metadata": {},
   "outputs": [],
   "source": [
    "PATH = r'C:\\Users\\Mehran\\Desktop\\Desktop files\\Bachelors Project\\Project\\TestResults\\Second\\Figures\\\\'"
   ]
  },
  {
   "cell_type": "code",
   "execution_count": 4,
   "metadata": {},
   "outputs": [
    {
     "name": "stderr",
     "output_type": "stream",
     "text": [
      "100%|███████████████████████████████████████████████████████████████████████████| 1602/1602 [00:00<00:00, 11726.20it/s]\n",
      "100%|█████████████████████████████████████████████████████████████████████████████| 1602/1602 [00:10<00:00, 153.96it/s]\n"
     ]
    }
   ],
   "source": [
    "path = 'Data/XBTUSD-5m-data.csv'\n",
    "data, patterns = load_data(path)"
   ]
  },
  {
   "cell_type": "code",
   "execution_count": 5,
   "metadata": {},
   "outputs": [],
   "source": [
    "deal = Train(data, patterns, 1)"
   ]
  },
  {
   "cell_type": "code",
   "execution_count": 6,
   "metadata": {},
   "outputs": [],
   "source": [
    "# experiment names:\n",
    "\n",
    "# experiments = ['10000iteration-n1-gamma1-epsilon0.05.pkl',\n",
    "# '20000-1-1-0.2-0.1(1).pkl',\n",
    "# '20000-1-1-0.2-0.1(2).pkl',\n",
    "# '20000-1-1-0.2-0.1(3).pkl',\n",
    "# '50000-1-1-0.5-0.1(3).pkl',\n",
    "# '50000-1-1-0.5-0.1(4).pkl',\n",
    "# '10000-1-1-0.2-0.1(1).pkl',\n",
    "# '10000-1-1-0.2-0.1(3).pkl',\n",
    "# '10000-1-1-0.3-0.01(1).pkl',\n",
    "# '10000-1-1-0.3-0.1(1).pkl',\n",
    "# '10000-1-1-0.3-0.1(2).pkl',\n",
    "# '10000-1-1-0.3-0.05.pkl',\n",
    "# '10000-1-1-0.5-0.1(1).pkl',\n",
    "# '10000-1-1-0.5-0.1(2).pkl',\n",
    "# '10000-4-1-0.3-0.01(1).pkl',\n",
    "# '10000-4-1-0.3-0.1(1).pkl',\n",
    "# '10000-4-1-0.3-0.1(2).pkl',\n",
    "# '10000-4-1-0.3-0.1(3).pkl',\n",
    "# '10000-4-1-0.3-0.1(4).pkl']\n",
    "\n",
    "# experiment = '10000-1-1-0.2-0.1(3).pkl'\n",
    "# experiment = '10000-4-1-0.3-0.1(2).pkl'\n",
    "# experiment = '10000iteration-n1-gamma1-epsilon0.05.pkl'\n",
    "# experiment = '20000-1-1-0.2-0.1(3).pkl'\n",
    "# experiment = '10000-4-1-0.3-0.01(1).pkl'\n",
    "\n",
    "# experiment = '10000-1-0.2-0.3-0.1(1).pkl'\n",
    "\n",
    "# First Step\n",
    "# experiment = '10000-1-0.2-0.3-0.1(1).pkl'\n",
    "# experiment = '10000-1-1-0.3-0.1(1).pkl'\n",
    "\n",
    "# Second Step\n",
    "# experiment = '10000-4-0.1-0.2-0.1(1).pkl'\n",
    "# experiment = '10000-4-0.2-0.3-0.0(1).pkl'\n",
    "# experiment = '10000-4-1-0.3-0.0(1).pkl'\n",
    "# experiment = '10000-4-1-0.3-0.1(1).pkl'\n",
    "\n",
    "\n",
    "\n",
    "# Third Step\n",
    "# experiment = '10000-1-1-0.3-0.1(2).pkl' # 1\n",
    "# experiment = '10000-2-1-0.3-0.1(1).pkl' # 2\n",
    "# experiment = '10000-3-1-0.3-0.1(1).pkl' # 3\n",
    "# experiment = '10000-4-1-0.3-0.1(2).pkl' # 4\n",
    "experiment = '10000-5-1-0.3-0.1(1).pkl' # 5\n",
    "# experiment = '10000-4-1-0.3-0.0(2).pkl' # 6"
   ]
  },
  {
   "cell_type": "code",
   "execution_count": 7,
   "metadata": {},
   "outputs": [
    {
     "name": "stdout",
     "output_type": "stream",
     "text": [
      "RuleBased:\n",
      "Historical VAR is -5.0\n",
      "Variance-Covariance VAR with 95% confidence is -4.941657824463081\n",
      "Variance-Covariance VAR with 99% confidence is -6.978219836969079\n",
      "##################################################\n",
      "Arithmetic Return: 387.0547158592788\n",
      "##################################################\n",
      "Logarithmic Return: -316.32727149514824\n",
      "##################################################\n",
      "Average daily return: 0.2416071884265161\n",
      "##################################################\n",
      "Daily return variance (return type: Arithmetic): 8.969690377989787\n",
      "##################################################\n",
      "Daily return variance (return type: Logarithmic): 8.718257311883466\n",
      "##################################################\n",
      "Time weighted return: nan\n",
      "##################################################\n",
      "Total Return: 23.647862136953083\n",
      "##################################################\n",
      "Sharp Ratio: 0.0806716844962987\n",
      "##################################################\n",
      "Value at Risk (Monte Carlo method): -4.69032322697649\n",
      "##################################################\n",
      "Volatility: 119.87261566154147\n",
      "##################################################\n",
      "Initial Investment: 1000\n",
      "##################################################\n",
      "Final Portfolio Value: 23647.862136953026\n",
      "##################################################\n",
      "387.055 & -316.327 & 0.242 & 8.970 & nan & 23.648 & 0.081 & -4.690 & 119.873 & 1000.000 & 23647.862 \\\\\n",
      "********************************************************************************\n",
      "Agent:\n",
      "Historical VAR is -5.0\n",
      "Variance-Covariance VAR with 95% confidence is -5.2167625206554575\n",
      "Variance-Covariance VAR with 99% confidence is -7.3667010140164955\n",
      "##################################################\n",
      "Arithmetic Return: 452.0638044971271\n",
      "##################################################\n",
      "Logarithmic Return: -372.691075600265\n",
      "##################################################\n",
      "Average daily return: 0.28218714388085336\n",
      "##################################################\n",
      "Daily return variance (return type: Arithmetic): 9.996184094367488\n",
      "##################################################\n",
      "Daily return variance (return type: Logarithmic): 9.801745207066327\n",
      "##################################################\n",
      "Time weighted return: 0.43789678071197846\n",
      "##################################################\n",
      "Total Return: 41.550549905473524\n",
      "##################################################\n",
      "Sharp Ratio: 0.08925244067750028\n",
      "##################################################\n",
      "Value at Risk (Monte Carlo method): -4.924306437724136\n",
      "##################################################\n",
      "Volatility: 126.54598736892733\n",
      "##################################################\n",
      "Initial Investment: 1000\n",
      "##################################################\n",
      "Final Portfolio Value: 41550.54990547349\n",
      "##################################################\n",
      "452.064 & -372.691 & 0.282 & 9.996 & 0.438 & 41.551 & 0.089 & -4.924 & 126.546 & 1000.000 & 41550.550 \\\\\n"
     ]
    }
   ],
   "source": [
    "deal.read_from_file(experiment)\n",
    "deal.make_investment()\n",
    "ev_RuleBased = Evaluation(deal.data, 'action', 1000)\n",
    "ev_agent = Evaluation(deal.data, 'action_agent', 1000)\n",
    "\n",
    "print(\"RuleBased:\")\n",
    "ev_RuleBased.evaluate()\n",
    "print('*' * 80)\n",
    "print(\"Agent:\")\n",
    "ev_agent.evaluate()\n",
    "\n",
    "agent_portfolio = ev_agent.get_daily_portfolio_value()\n",
    "RuleBased_portfolio = ev_RuleBased.get_daily_portfolio_value()"
   ]
  },
  {
   "cell_type": "code",
   "execution_count": 8,
   "metadata": {},
   "outputs": [
    {
     "name": "stdout",
     "output_type": "stream",
     "text": [
      "doji & -373.138 & 155.397 & -503.058\\\\\n",
      "hanging man, doji & -13.108 & 3.677 & -87.880\\\\\n",
      "None & 0.000 & -204.532 & 0.000\\\\\n",
      "inverse hammer, doji & -39.460 & 16.018 & -22.930\\\\\n",
      "hammer, doji & 13.961 & -78.397 & -78.225\\\\\n",
      "shooting star, doji & 9.380 & -4.695 & -9.748\\\\\n",
      "inverse hammer & 21.882 & -131.542 & -525.897\\\\\n",
      "hanging man & -371.133 & -262.906 & 146.844\\\\\n",
      "shooting star & 246.358 & -192.376 & -596.426\\\\\n",
      "bullish engulfing & -394.284 & 25.529 & -242.755\\\\\n",
      "hammer & -557.301 & 28.055 & -351.808\\\\\n",
      "three white soldiers & 1157.000 & 132.024 & -1157.000\\\\\n",
      "bearish engulfing & -838.225 & 27.670 & -881.682\\\\\n",
      "three black crows & -249.511 & -125.559 & 243.939\\\\\n",
      "hanging man, three black crows & 1612.000 & 507.335 & -1519.071\\\\\n"
     ]
    },
    {
     "data": {
      "text/plain": [
       "{\"['doji']\": {'buy': -373.13834008391865,\n",
       "  'None': 155.39749128290543,\n",
       "  'sell': -503.0580006945912},\n",
       " \"['hanging man', 'doji']\": {'buy': -13.108274866848383,\n",
       "  'None': 3.6772673744294027,\n",
       "  'sell': -87.8799089655372},\n",
       " \"['None']\": {'buy': 0.0, 'None': -204.53224478903275, 'sell': 0.0},\n",
       " \"['inverse hammer', 'doji']\": {'buy': -39.4598660607124,\n",
       "  'None': 16.018052407880596,\n",
       "  'sell': -22.930101337547008},\n",
       " \"['hammer', 'doji']\": {'buy': 13.960583017253889,\n",
       "  'None': -78.3965114473148,\n",
       "  'sell': -78.22488300738853},\n",
       " \"['shooting star', 'doji']\": {'buy': 9.380215175251877,\n",
       "  'None': -4.69460211002537,\n",
       "  'sell': -9.748060452765598},\n",
       " \"['inverse hammer']\": {'buy': 21.882459582028602,\n",
       "  'None': -131.54178892065207,\n",
       "  'sell': -525.897453959733},\n",
       " \"['hanging man']\": {'buy': -371.13336534289783,\n",
       "  'None': -262.9060282808871,\n",
       "  'sell': 146.84423152053063},\n",
       " \"['shooting star']\": {'buy': 246.35834591300275,\n",
       "  'None': -192.37608807826408,\n",
       "  'sell': -596.4262404494402},\n",
       " \"['bullish engulfing']\": {'buy': -394.28405782095,\n",
       "  'None': 25.529497473067565,\n",
       "  'sell': -242.75506211733602},\n",
       " \"['hammer']\": {'buy': -557.3005484734348,\n",
       "  'None': 28.05464085694185,\n",
       "  'sell': -351.807675840222},\n",
       " \"['three white soldiers']\": {'buy': 1156.9999999999995,\n",
       "  'None': 132.02365414761704,\n",
       "  'sell': -1156.9999999999995},\n",
       " \"['bearish engulfing']\": {'buy': -838.2245269724193,\n",
       "  'None': 27.670355334728427,\n",
       "  'sell': -881.6822525603219},\n",
       " \"['three black crows']\": {'buy': -249.51070128254105,\n",
       "  'None': -125.55916240765582,\n",
       "  'sell': 243.93876857183648},\n",
       " \"['hanging man', 'three black crows']\": {'buy': 1611.9999999999998,\n",
       "  'None': 507.33543701475304,\n",
       "  'sell': -1519.0714205405152}}"
      ]
     },
     "execution_count": 8,
     "metadata": {},
     "output_type": "execute_result"
    }
   ],
   "source": [
    "deal.agent.get_Qvalue_log()"
   ]
  },
  {
   "cell_type": "code",
   "execution_count": 9,
   "metadata": {},
   "outputs": [
    {
     "ename": "NameError",
     "evalue": "name 'experiments' is not defined",
     "output_type": "error",
     "traceback": [
      "\u001b[1;31m---------------------------------------------------------------------------\u001b[0m",
      "\u001b[1;31mNameError\u001b[0m                                 Traceback (most recent call last)",
      "\u001b[1;32m<ipython-input-9-78d7ac65450a>\u001b[0m in \u001b[0;36m<module>\u001b[1;34m\u001b[0m\n\u001b[1;32m----> 1\u001b[1;33m \u001b[0mdeal\u001b[0m\u001b[1;33m.\u001b[0m\u001b[0mread_from_file\u001b[0m\u001b[1;33m(\u001b[0m\u001b[0mexperiments\u001b[0m\u001b[1;33m[\u001b[0m\u001b[1;36m0\u001b[0m\u001b[1;33m]\u001b[0m\u001b[1;33m)\u001b[0m\u001b[1;33m\u001b[0m\u001b[1;33m\u001b[0m\u001b[0m\n\u001b[0m\u001b[0;32m      2\u001b[0m \u001b[0mdeal\u001b[0m\u001b[1;33m.\u001b[0m\u001b[0mmake_investment\u001b[0m\u001b[1;33m(\u001b[0m\u001b[1;33m)\u001b[0m\u001b[1;33m\u001b[0m\u001b[1;33m\u001b[0m\u001b[0m\n\u001b[0;32m      3\u001b[0m \u001b[0mev_human\u001b[0m \u001b[1;33m=\u001b[0m \u001b[0mEvaluation\u001b[0m\u001b[1;33m(\u001b[0m\u001b[0mdeal\u001b[0m\u001b[1;33m.\u001b[0m\u001b[0mdata\u001b[0m\u001b[1;33m,\u001b[0m \u001b[1;34m'action'\u001b[0m\u001b[1;33m,\u001b[0m \u001b[1;36m1000\u001b[0m\u001b[1;33m)\u001b[0m\u001b[1;33m\u001b[0m\u001b[1;33m\u001b[0m\u001b[0m\n\u001b[0;32m      4\u001b[0m \u001b[0mev_robot\u001b[0m \u001b[1;33m=\u001b[0m \u001b[0mEvaluation\u001b[0m\u001b[1;33m(\u001b[0m\u001b[0mdeal\u001b[0m\u001b[1;33m.\u001b[0m\u001b[0mdata\u001b[0m\u001b[1;33m,\u001b[0m \u001b[1;34m'action_robot'\u001b[0m\u001b[1;33m,\u001b[0m \u001b[1;36m1000\u001b[0m\u001b[1;33m)\u001b[0m\u001b[1;33m\u001b[0m\u001b[1;33m\u001b[0m\u001b[0m\n\u001b[0;32m      5\u001b[0m \u001b[1;33m\u001b[0m\u001b[0m\n",
      "\u001b[1;31mNameError\u001b[0m: name 'experiments' is not defined"
     ]
    }
   ],
   "source": [
    "deal.read_from_file(experiments[0])\n",
    "deal.make_investment()\n",
    "ev_human = Evaluation(deal.data, 'action', 1000)\n",
    "ev_robot = Evaluation(deal.data, 'action_robot', 1000)\n",
    "\n",
    "robot_portfolio = ev_robot.get_daily_portfolio_value()\n",
    "human_portfolio = ev_human.get_daily_portfolio_value()\n",
    "\n",
    "plt.figure(figsize=(12, 12))\n",
    "plt.plot(np.arange(len(human_portfolio)), human_portfolio, label='Rule-Based')\n",
    "plt.plot(np.arange(len(robot_portfolio)), robot_portfolio, label='Agent')\n",
    "plt.legend()\n",
    "plt.savefig('image.jpg')"
   ]
  },
  {
   "cell_type": "code",
   "execution_count": null,
   "metadata": {},
   "outputs": [],
   "source": [
    "\n",
    "# for e in experiments:\n",
    "#     deal.read_from_file(e)\n",
    "#     deal.make_investment()\n",
    "#     ev_rule_based = Evaluation(deal.data, 'action', 1000)\n",
    "#     ev_agent = Evaluation(deal.data, 'action_robot', 1000)\n",
    "#     agent_portfolio = ev_agent.get_daily_portfolio_value()\n",
    "#     rule_based_portfolio = ev_rule_based.get_daily_portfolio_value()\n",
    "#     plt.figure(figsize=(12, 12))\n",
    "#     plt.plot(np.arange(len(rule_based_portfolio)), rule_based_portfolio, label='Rule-Based')\n",
    "#     plt.plot(np.arange(len(agent_portfolio)), agent_portfolio, label='Agent')\n",
    "#     plt.legend()\n",
    "#     plt.savefig(f\"{e.split('.pkl')[0]}.jpg\")"
   ]
  },
  {
   "cell_type": "code",
   "execution_count": null,
   "metadata": {},
   "outputs": [],
   "source": []
  }
 ],
 "metadata": {
  "kernelspec": {
   "display_name": "Python 3",
   "language": "python",
   "name": "python3"
  },
  "language_info": {
   "codemirror_mode": {
    "name": "ipython",
    "version": 3
   },
   "file_extension": ".py",
   "mimetype": "text/x-python",
   "name": "python",
   "nbconvert_exporter": "python",
   "pygments_lexer": "ipython3",
   "version": "3.7.3"
  }
 },
 "nbformat": 4,
 "nbformat_minor": 2
}
